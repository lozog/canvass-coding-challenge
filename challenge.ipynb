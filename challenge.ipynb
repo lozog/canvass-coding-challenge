{
 "cells": [
  {
   "cell_type": "markdown",
   "metadata": {},
   "source": [
    "# Software Engineering Coding Challenges\n",
    "Below are some coding challenges that will give us some insight into your coding and problem solving abilities.  Feel free to write this in whatever language you'd like."
   ]
  },
  {
   "cell_type": "markdown",
   "metadata": {},
   "source": [
    "## Challenge #1\n",
    "Write a program which will find all such numbers between 1000 and 3000 (both included) such that each digit of the number is an even number.  The number obtained should be printed in a comma-sperated sequence on a single line.\n",
    "\n",
    "#### Sample Output\n",
    "```\n",
    "2000,2002,2004,2006,2008,2020,2022,...,2886,2888\n",
    "```"
   ]
  },
  {
   "cell_type": "markdown",
   "metadata": {},
   "source": [
    "## Challenge #2\n",
    "\n",
    "Given the csv file in this directory (random_data.csv), read the file in and sort it by `Device_ID`, then by `Date`.  Finally save the file back to a file named random_data_sorted.csv\n",
    "\n",
    "Hint: While this file is small (only 100 records), try to implement something that will work on large files with 100's of thousands or millions of records"
   ]
  }
 ],
 "metadata": {
  "kernelspec": {
   "display_name": "Python 3",
   "language": "python",
   "name": "python3"
  },
  "language_info": {
   "codemirror_mode": {
    "name": "ipython",
    "version": 3
   },
   "file_extension": ".py",
   "mimetype": "text/x-python",
   "name": "python",
   "nbconvert_exporter": "python",
   "pygments_lexer": "ipython3",
   "version": "3.6.4"
  }
 },
 "nbformat": 4,
 "nbformat_minor": 2
}